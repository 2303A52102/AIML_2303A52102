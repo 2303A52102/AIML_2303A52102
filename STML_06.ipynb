{
  "nbformat": 4,
  "nbformat_minor": 0,
  "metadata": {
    "colab": {
      "provenance": [],
      "mount_file_id": "10mU-ziEtLHitXF70HSXpcLPHKkiaic1A",
      "authorship_tag": "ABX9TyPYsT/DugS/SRgo588i0dVH",
      "include_colab_link": true
    },
    "kernelspec": {
      "name": "python3",
      "display_name": "Python 3"
    },
    "language_info": {
      "name": "python"
    }
  },
  "cells": [
    {
      "cell_type": "markdown",
      "metadata": {
        "id": "view-in-github",
        "colab_type": "text"
      },
      "source": [
        "<a href=\"https://colab.research.google.com/github/2303A52102/AIML_2303A52102/blob/main/STML_06.ipynb\" target=\"_parent\"><img src=\"https://colab.research.google.com/assets/colab-badge.svg\" alt=\"Open In Colab\"/></a>"
      ]
    },
    {
      "cell_type": "code",
      "source": [
        "import pandas as pd\n",
        "from sklearn.model_selection import train_test_split\n",
        "from sklearn.preprocessing import StandardScaler\n",
        "from sklearn.linear_model import LogisticRegression\n",
        "from sklearn.metrics import accuracy_score, confusion_matrix"
      ],
      "metadata": {
        "id": "GGyDoeMiGO0g"
      },
      "execution_count": 1,
      "outputs": []
    },
    {
      "cell_type": "code",
      "source": [
        "data = {\n",
        "'Study Hours per Week': [10, 5, 15, 2, 12, 8, 14, 3, 11, 6],\n",
        "'Class Attendance (%)': [90, 60, 95, 30, 85, 75, 92, 50, 88, 65],\n",
        "'Previous Exam Score (%)': [85, 70, 90, 50, 88, 65, 93, 55, 80, 60],\n",
        "'Participation in Group Study': [1, 0, 1, 0, 1, 0, 1, 0, 1, 0],\n",
        "'Submission of Assignments (%)': [100, 80, 100, 40, 90, 70, 95, 60, 85, 75],\n",
        "'Pass/Fail': [1, 0, 1, 0, 1, 0, 1, 0, 1, 0]\n",
        "}"
      ],
      "metadata": {
        "id": "rHD-ss8xGZ6S"
      },
      "execution_count": 2,
      "outputs": []
    },
    {
      "cell_type": "code",
      "source": [
        "df = pd.DataFrame(data)\n",
        "X = df.drop('Pass/Fail', axis=1)\n",
        "y = df['Pass/Fail']\n",
        "X_train, X_test, y_train, y_test = train_test_split(X, y, test_size=0.2, random_state=42)\n",
        "scaler = StandardScaler()\n",
        "X_train_scaled = scaler.fit_transform(X_train)\n",
        "X_test_scaled = scaler.transform(X_test)"
      ],
      "metadata": {
        "id": "u7Wxe9dXGhuP"
      },
      "execution_count": 3,
      "outputs": []
    },
    {
      "cell_type": "code",
      "source": [
        "model = LogisticRegression()\n",
        "model.fit(X_train_scaled, y_train)\n",
        "y_pred = model.predict(X_test_scaled)\n",
        "accuracy = accuracy_score(y_test, y_pred)\n",
        "conf_matrix = confusion_matrix(y_test, y_pred)\n",
        "print(f\"Accuracy: {accuracy}\")\n",
        "print(f\"Confusion Matrix:\\n{conf_matrix}\")"
      ],
      "metadata": {
        "colab": {
          "base_uri": "https://localhost:8080/"
        },
        "id": "gvYDO52EGzeD",
        "outputId": "6915bd99-0b84-435e-95a0-f3a94db71868"
      },
      "execution_count": 4,
      "outputs": [
        {
          "output_type": "stream",
          "name": "stdout",
          "text": [
            "Accuracy: 1.0\n",
            "Confusion Matrix:\n",
            "[[1 0]\n",
            " [0 1]]\n"
          ]
        }
      ]
    },
    {
      "cell_type": "code",
      "source": [
        "import pandas as pd\n",
        "from sklearn.model_selection import train_test_split\n",
        "from sklearn.preprocessing import LabelEncoder\n",
        "from sklearn.linear_model import Perceptron\n",
        "from sklearn.metrics import accuracy_score, confusion_matrix\n"
      ],
      "metadata": {
        "id": "fBPRPrakHBwe"
      },
      "execution_count": 5,
      "outputs": []
    },
    {
      "cell_type": "code",
      "source": [
        "# Load the dataset\n",
        "file_path = '/content/drive/MyDrive/STML/diabetes_data_upload.csv'\n",
        "data = pd.read_csv(file_path)"
      ],
      "metadata": {
        "id": "x1rrAS3KJTv6"
      },
      "execution_count": 6,
      "outputs": []
    },
    {
      "cell_type": "code",
      "source": [
        "# Encode categorical variables using LabelEncoder\n",
        "label_enc = LabelEncoder()\n",
        "\n",
        "\n"
      ],
      "metadata": {
        "id": "OhIFAm7YKEpq"
      },
      "execution_count": 7,
      "outputs": []
    },
    {
      "cell_type": "code",
      "source": [
        "# Apply label encoding to all columns that have categorical data\n",
        "for column in data.columns:\n",
        "  data[column] = label_enc.fit_transform(data[column])\n",
        "\n",
        "\n",
        "\n",
        "\n",
        "\n",
        "\n",
        "\n"
      ],
      "metadata": {
        "id": "8b90POrnKYQJ"
      },
      "execution_count": 8,
      "outputs": []
    },
    {
      "cell_type": "code",
      "source": [
        "# Split the data into features (X) and target (y)\n",
        "X = data.drop('class', axis=1)\n",
        "y = data['class']\n",
        "\n",
        "\n"
      ],
      "metadata": {
        "id": "ennM9sIbKz71"
      },
      "execution_count": 9,
      "outputs": []
    },
    {
      "cell_type": "code",
      "source": [
        "# Split into training and testing sets (80% train, 20% test)\n",
        "X_train, X_test, y_train, y_test = train_test_split(X, y, test_size=0.2, random_state=42)\n",
        "\n",
        "\n"
      ],
      "metadata": {
        "id": "BNrO22lXLbap"
      },
      "execution_count": 10,
      "outputs": []
    },
    {
      "cell_type": "code",
      "source": [
        "# Initialize the Perceptron model\n",
        "perceptron = Perceptron(max_iter=1000, tol=1e-3, random_state=42)\n",
        "# Train the Perceptron model\n",
        "perceptron.fit(X_train, y_train)\n",
        "# Predict on the test set\n",
        "y_pred = perceptron.predict(X_test)\n",
        "# Calculate accuracy\n",
        "accuracy = accuracy_score(y_test, y_pred)\n",
        "# Confusion matrix\n",
        "conf_matrix = confusion_matrix(y_test, y_pred)\n",
        "# Display the results\n",
        "print(f'Accuracy: {accuracy * 100:.2f}%')\n",
        "print(f'Confusion Matrix:\\n{conf_matrix}')\n",
        "\n",
        "\n",
        "\n",
        "\n",
        "\n",
        "\n",
        "\n",
        "\n",
        "\n",
        "\n",
        "\n",
        "\n",
        "\n",
        "\n",
        "\n",
        "\n"
      ],
      "metadata": {
        "colab": {
          "base_uri": "https://localhost:8080/"
        },
        "id": "TPmKL0k9L7Se",
        "outputId": "27f17f89-20c4-4868-b529-fad81e916b2e"
      },
      "execution_count": 11,
      "outputs": [
        {
          "output_type": "stream",
          "name": "stdout",
          "text": [
            "Accuracy: 81.73%\n",
            "Confusion Matrix:\n",
            "[[14 19]\n",
            " [ 0 71]]\n"
          ]
        }
      ]
    }
  ]
}