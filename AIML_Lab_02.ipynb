{
  "nbformat": 4,
  "nbformat_minor": 0,
  "metadata": {
    "colab": {
      "provenance": [],
      "authorship_tag": "ABX9TyOAnGdkTV2JQfFzL4J5p56F",
      "include_colab_link": true
    },
    "kernelspec": {
      "name": "python3",
      "display_name": "Python 3"
    },
    "language_info": {
      "name": "python"
    }
  },
  "cells": [
    {
      "cell_type": "markdown",
      "metadata": {
        "id": "view-in-github",
        "colab_type": "text"
      },
      "source": [
        "<a href=\"https://colab.research.google.com/github/2303A52102/AIML_2303A52102/blob/main/AIML_Lab_02.ipynb\" target=\"_parent\"><img src=\"https://colab.research.google.com/assets/colab-badge.svg\" alt=\"Open In Colab\"/></a>"
      ]
    },
    {
      "cell_type": "markdown",
      "source": [
        "Part 1 Implement Breadth First Search Algorithm using a Queue\n",
        "1. Given a graph with adjacency list and a starting vertex and we have to traverse the graph.\n",
        "2. We will first print the value in the starting vertex,\n",
        "3. Continue to print the value of neighbors of the starting vertex and\n",
        "4. Next move on to the next level after completing the current level till all the vertices of the graph are printed."
      ],
      "metadata": {
        "id": "QGGL_6ncGs6l"
      }
    },
    {
      "cell_type": "code",
      "source": [
        "from queue import Queue\n",
        "graph={0:[1,3],1:[0,2,3],2:[1,4,5],3:[0,1,4],4:[2,3,5],5:[2,4]}\n",
        "print(graph)"
      ],
      "metadata": {
        "colab": {
          "base_uri": "https://localhost:8080/"
        },
        "id": "v5VIC-NY_lWR",
        "outputId": "c0933443-91f4-4dad-c005-12246a066617"
      },
      "execution_count": null,
      "outputs": [
        {
          "output_type": "stream",
          "name": "stdout",
          "text": [
            "{0: [1, 3], 1: [0, 2, 3], 2: [1, 4, 5], 3: [0, 1, 4], 4: [2, 3, 5], 5: [2, 4]}\n"
          ]
        }
      ]
    },
    {
      "cell_type": "code",
      "source": [
        "def bfs(graph,source):\n",
        "  Q=Queue()\n",
        "  visited_vertices=set()\n",
        "  Q.put(source)\n",
        "  visited_vertices.update({0})\n",
        "  while not Q.empty():\n",
        "    vertex=Q.get()\n",
        "    print(vertex,end=\"-->\")\n",
        "    for u in graph[vertex]:\n",
        "      if u not in visited_vertices:\n",
        "        Q.put(u)\n",
        "        visited_vertices.update({u})\n",
        "print(\"BFS traversal of growth with source 0 is:\")\n",
        "bfs(graph,0)"
      ],
      "metadata": {
        "colab": {
          "base_uri": "https://localhost:8080/"
        },
        "id": "KKWMrEaJAoIv",
        "outputId": "dee6102d-9ce7-476d-e954-5f5a21a71a67"
      },
      "execution_count": null,
      "outputs": [
        {
          "output_type": "stream",
          "name": "stdout",
          "text": [
            "BFS traversal of growth with source 0 is:\n",
            "0-->1-->3-->2-->4-->5-->"
          ]
        }
      ]
    },
    {
      "cell_type": "markdown",
      "source": [
        "Part 2 Implement Depth First Search Algorithm using a Stack\n",
        " 0.1 DFS Stack implementations steps to be followed:\n",
        " 1. Start at the root node and push it onto the stack.\n",
        " 2. Check for any adjacent nodes of the tree and select one node.\n",
        " 3. Traverse the entire branch of the selected node and push all the nodes into the stack.\n",
        " 4. Upon reaching the end of a branch (no more adjacent nodes) ie nth leaf node, move\n",
        " back by a single step and look for adjacent nodes of the n-1th node.\n",
        " 5. If there are adjacent nodes for the n-1th node, traverse those branches and push nodes\n",
        " onto the stack"
      ],
      "metadata": {
        "id": "qGyUfT6-HaUP"
      }
    },
    {
      "cell_type": "code",
      "source": [
        "graph1={\n",
        "    'A' : ['B','S'],\n",
        "    'B' : ['A'],\n",
        "    'C' : ['D','E','F','S'],\n",
        "    'D' : ['C'],\n",
        "    'E' : ['C','H'],\n",
        "    'F' : ['C','G'],\n",
        "    'G' : ['F','S'],\n",
        "    'H' : ['E','G'],\n",
        "    'S' : ['A','C','G']\n",
        "}\n",
        "def dfs(graph,node,visited):\n",
        "  if node not in visited:\n",
        "    visited.append(node)\n",
        "    for k in graph[node]:\n",
        "      dfs(graph,k,visited)\n",
        "  return visited\n",
        "visited=dfs(graph1,'D',[])\n",
        "print(visited)"
      ],
      "metadata": {
        "id": "-5BBFcznLLO_",
        "colab": {
          "base_uri": "https://localhost:8080/"
        },
        "outputId": "829c439a-33fc-43b9-dee1-051c29a9697e"
      },
      "execution_count": 1,
      "outputs": [
        {
          "output_type": "stream",
          "name": "stdout",
          "text": [
            "['D', 'C', 'E', 'H', 'G', 'F', 'S', 'A', 'B']\n"
          ]
        }
      ]
    },
    {
      "cell_type": "markdown",
      "source": [
        "Part 3 – Implement A* Algorithm using Numpy\n",
        "\n",
        "A*Algorithm (pronounced as A-star) is a combination of ‘branch and bound search algorithm’ and ‘best search algorithm’ combined with the dynamic programming principle.\n",
        "The A* Algorithm is well-known because it is used for locating path and graph traversals.\n",
        "This algorithm is used in numerous online maps and games.\n",
        "It uses a heuristic or evaluation function usually denoted by f(X) to determine the order in which the search visits nodes in the tree.\n",
        "The heuristic function for a node N is defined as follows: f(x) = g(x) + h(x) (1) where g(x) is the actual cost estimate, h(x) is the heuristic cost estimate for the gives ![WhatsApp Image 2024-08-27 at 09.48.46_5fc8ec57.jpg](data:image/jpeg;base64,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)"
      ],
      "metadata": {
        "id": "F-ZUMe0XDN5Q"
      }
    },
    {
      "cell_type": "code",
      "source": [
        "from copy import deepcopy\n",
        "import numpy as np\n",
        "import time\n",
        "\n",
        "def bestsolution(state):\n",
        "    bestsol = np.array([], int).reshape(-1, 9)\n",
        "    count = len(state) - 1\n",
        "    while count != -1:\n",
        "        bestsol = np.insert(bestsol, 0, state[count]['puzzle'], 0)\n",
        "        count = (state[count]['parent'])\n",
        "    return bestsol.reshape(-1, 3, 3)\n",
        "\n",
        "\n",
        "# checks for the uniqueness of the iteration(it).\n",
        "def all(checkarray):\n",
        "    set=[]\n",
        "    for it in set:\n",
        "        for checkarray in it:\n",
        "            return 1\n",
        "        else:\n",
        "            return 0\n",
        "\n",
        "\n",
        "# number of misplaced tiles\n",
        "def misplaced_tiles(puzzle,goal):\n",
        "    mscost = np.sum(puzzle != goal) - 1\n",
        "    return mscost if mscost > 0 else 0\n",
        "\n",
        "\n",
        "def coordinates(puzzle):\n",
        "    pos = np.array(range(9))\n",
        "    for p, q in enumerate(puzzle):\n",
        "        pos[q] = p\n",
        "    return pos\n",
        "\n",
        "\n",
        "# start of 8 puzzle evaluvation, using Misplaced tiles heuristics\n",
        "def evaluvate_misplaced(puzzle, goal):\n",
        "    steps = np.array([('up', [0, 1, 2], -3),('down', [6, 7, 8],  3),('left', [0, 3, 6], -1),('right', [2, 5, 8],  1)],\n",
        "                dtype =  [('move',  str, 1),('position', list),('head', int)])\n",
        "\n",
        "    dtstate = [('puzzle',  list),('parent', int),('gn',  int),('hn',  int)]\n",
        "\n",
        "    costg = coordinates(goal)\n",
        "\n",
        "    # initializing the parent, gn and hn, where hn is misplaced_tiles  function call\n",
        "    parent = -1\n",
        "    gn = 0\n",
        "    hn = misplaced_tiles(coordinates(puzzle), costg)\n",
        "    state = np.array([(puzzle, parent, gn, hn)], dtstate)\n",
        "\n",
        "   #priority queues with position as keys and fn as value.\n",
        "    dtpriority = [('position', int),('fn', int)]\n",
        "\n",
        "    priority = np.array([(0, hn)], dtpriority)\n",
        "\n",
        "    while 1:\n",
        "        priority = np.sort(priority, kind='mergesort', order=['fn', 'position'])\n",
        "        position, fn = priority[0]\n",
        "        # sort priority queue using merge sort,the first element is picked for exploring.\n",
        "        priority = np.delete(priority, 0, 0)\n",
        "        puzzle, parent, gn, hn = state[position]\n",
        "        puzzle = np.array(puzzle)\n",
        "\n",
        "        blank = int(np.where(puzzle == 0)[0])\n",
        "\n",
        "        gn = gn + 1\n",
        "        c = 1\n",
        "        start_time = time.time()\n",
        "        for s in steps:\n",
        "            c = c + 1\n",
        "            if blank not in s['position']:\n",
        "                openstates = deepcopy(puzzle)\n",
        "                openstates[blank], openstates[blank + s['head']] = openstates[blank + s['head']], openstates[blank]\n",
        "\n",
        "                if ~(np.all(list(state['puzzle']) == openstates, 1)).any():\n",
        "                    end_time = time.time()\n",
        "                    if (( end_time - start_time ) > 2):\n",
        "                        print(\" The 8 puzzle is unsolvable \\n\")\n",
        "                        break\n",
        "\n",
        "                    hn = misplaced_tiles(coordinates(openstates), costg)\n",
        "                    # generate and add new state in the list\n",
        "                    q = np.array([(openstates, position, gn, hn)], dtstate)\n",
        "                    state = np.append(state, q, 0)\n",
        "                    # f(n) is the sum of cost to reach node\n",
        "                    fn = gn + hn\n",
        "\n",
        "                    q = np.array([(len(state) - 1, fn)], dtpriority)\n",
        "                    priority = np.append(priority, q, 0)\n",
        "\n",
        "                    if np.array_equal(openstates, goal):\n",
        "                        print(' The 8 puzzle is solvable \\n')\n",
        "                        return state, len(priority)\n",
        "\n",
        "    return state, len(priority)\n",
        "\n",
        "\n",
        "# initial state\n",
        "puzzle = []\n",
        "\n",
        "puzzle.append(2)\n",
        "puzzle.append(8)\n",
        "puzzle.append(3)\n",
        "puzzle.append(7)\n",
        "puzzle.append(1)\n",
        "puzzle.append(4)\n",
        "puzzle.append(0)\n",
        "puzzle.append(6)\n",
        "puzzle.append(5)\n",
        "\n",
        "#goal state\n",
        "goal = []\n",
        "\n",
        "goal.append(1)\n",
        "goal.append(2)\n",
        "goal.append(3)\n",
        "goal.append(8)\n",
        "goal.append(0)\n",
        "goal.append(4)\n",
        "goal.append(7)\n",
        "goal.append(6)\n",
        "goal.append(5)\n",
        "\n",
        "\n",
        "state, visited = evaluvate_misplaced(puzzle, goal)\n",
        "bestpath = bestsolution(state)\n",
        "print(str(bestpath).replace('[', ' ').replace(']', ''))\n",
        "totalmoves = len(bestpath) - 1\n",
        "print('\\nSteps to reach goal:',totalmoves)\n",
        "visit = len(state) - visited\n",
        "print('Total nodes visited: ',visit, \"\\n\")"
      ],
      "metadata": {
        "colab": {
          "base_uri": "https://localhost:8080/"
        },
        "id": "ZIk-HhNeDvMc",
        "outputId": "1458f916-965f-453c-a92b-fc9f079631bb"
      },
      "execution_count": 2,
      "outputs": [
        {
          "output_type": "stream",
          "name": "stdout",
          "text": [
            " The 8 puzzle is solvable \n",
            "\n",
            "   2 8 3\n",
            "   7 1 4\n",
            "   0 6 5\n",
            "\n",
            "   2 8 3\n",
            "   0 1 4\n",
            "   7 6 5\n",
            "\n",
            "   2 8 3\n",
            "   1 0 4\n",
            "   7 6 5\n",
            "\n",
            "   2 0 3\n",
            "   1 8 4\n",
            "   7 6 5\n",
            "\n",
            "   0 2 3\n",
            "   1 8 4\n",
            "   7 6 5\n",
            "\n",
            "   1 2 3\n",
            "   0 8 4\n",
            "   7 6 5\n",
            "\n",
            "   1 2 3\n",
            "   8 0 4\n",
            "   7 6 5\n",
            "\n",
            "Steps to reach goal: 6\n",
            "Total nodes visited:  11 \n",
            "\n"
          ]
        },
        {
          "output_type": "stream",
          "name": "stderr",
          "text": [
            "<ipython-input-2-f1708b19b664>:65: DeprecationWarning: Conversion of an array with ndim > 0 to a scalar is deprecated, and will error in future. Ensure you extract a single element from your array before performing this operation. (Deprecated NumPy 1.25.)\n",
            "  blank = int(np.where(puzzle == 0)[0])\n"
          ]
        }
      ]
    }
  ]
}